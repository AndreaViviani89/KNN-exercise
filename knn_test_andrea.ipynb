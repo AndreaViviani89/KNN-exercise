{
 "cells": [
  {
   "cell_type": "markdown",
   "metadata": {},
   "source": [
    "# Let's test your implementation of KNN "
   ]
  },
  {
   "cell_type": "code",
   "execution_count": 1,
   "metadata": {},
   "outputs": [],
   "source": [
    "# import your class on KNN\n",
    "from KNN_andrea import KNN\n",
    "\n"
   ]
  },
  {
   "cell_type": "code",
   "execution_count": 2,
   "metadata": {},
   "outputs": [],
   "source": [
    "assert KNN is not None, 'KNN should be imported'\n",
    "assert 'fit' in dir(KNN) and 'predict' in dir(KNN), 'Your implementation should follow the sklearn standards (fit and predict methods)'"
   ]
  },
  {
   "cell_type": "code",
   "execution_count": 3,
   "metadata": {},
   "outputs": [
    {
     "data": {
      "text/plain": [
       "[0, 1]"
      ]
     },
     "execution_count": 3,
     "metadata": {},
     "output_type": "execute_result"
    }
   ],
   "source": [
    "# Quick test\n",
    "import numpy as np\n",
    "X = np.array([[0], [1], [2], [3]])\n",
    "y = np.array([0, 0, 1, 1])\n",
    "\n",
    "knn = KNN(k=3)\n",
    "knn.fit(X, y)\n",
    "knn.predict(np.array([[1.1], [4]]))"
   ]
  },
  {
   "cell_type": "markdown",
   "metadata": {},
   "source": [
    "# Pick 3 Datasets\n",
    "Either from the /datasets available in github (which should be familiar from last week) or by directly downloading any 3 datasets from the [UCI Machine Learning Repository](https://archive.ics.uci.edu/ml/index.php)"
   ]
  },
  {
   "cell_type": "markdown",
   "metadata": {},
   "source": [
    "# Import Dataset1:"
   ]
  },
  {
   "cell_type": "code",
   "execution_count": 4,
   "metadata": {},
   "outputs": [],
   "source": [
    "import pandas as pd\n",
    "import seaborn as sns\n",
    "import matplotlib.pyplot as plt\n",
    "from sklearn.model_selection import train_test_split"
   ]
  },
  {
   "cell_type": "code",
   "execution_count": null,
   "metadata": {},
   "outputs": [],
   "source": [
    "# Note: If you implemented Knn for one feature and one label only, you will have to trim the dataset.\n",
    "# BONUS: Extend your Knn Algorithm to be valid for any size of features in your dataset. \n",
    "# BONUS2: Create a function in your original knn class to calculate the time it takes to execute from start to finish. "
   ]
  },
  {
   "cell_type": "markdown",
   "metadata": {},
   "source": [
    "## Load your data into X and y"
   ]
  },
  {
   "cell_type": "code",
   "execution_count": 5,
   "metadata": {},
   "outputs": [],
   "source": [
    "# load your data into X and y numpy arrays\n",
    "data = pd.read_csv('seeds.csv')"
   ]
  },
  {
   "cell_type": "code",
   "execution_count": 6,
   "metadata": {},
   "outputs": [
    {
     "data": {
      "text/html": [
       "<div>\n",
       "<style scoped>\n",
       "    .dataframe tbody tr th:only-of-type {\n",
       "        vertical-align: middle;\n",
       "    }\n",
       "\n",
       "    .dataframe tbody tr th {\n",
       "        vertical-align: top;\n",
       "    }\n",
       "\n",
       "    .dataframe thead th {\n",
       "        text-align: right;\n",
       "    }\n",
       "</style>\n",
       "<table border=\"1\" class=\"dataframe\">\n",
       "  <thead>\n",
       "    <tr style=\"text-align: right;\">\n",
       "      <th></th>\n",
       "      <th>area</th>\n",
       "      <th>perimeter</th>\n",
       "      <th>compactness</th>\n",
       "      <th>length</th>\n",
       "      <th>width</th>\n",
       "      <th>asymmetry_coefficient</th>\n",
       "      <th>groove_length</th>\n",
       "      <th>grain_variety</th>\n",
       "    </tr>\n",
       "  </thead>\n",
       "  <tbody>\n",
       "    <tr>\n",
       "      <th>0</th>\n",
       "      <td>15.26</td>\n",
       "      <td>14.84</td>\n",
       "      <td>0.8710</td>\n",
       "      <td>5.763</td>\n",
       "      <td>3.312</td>\n",
       "      <td>2.221</td>\n",
       "      <td>5.220</td>\n",
       "      <td>Kama wheat</td>\n",
       "    </tr>\n",
       "    <tr>\n",
       "      <th>1</th>\n",
       "      <td>14.88</td>\n",
       "      <td>14.57</td>\n",
       "      <td>0.8811</td>\n",
       "      <td>5.554</td>\n",
       "      <td>3.333</td>\n",
       "      <td>1.018</td>\n",
       "      <td>4.956</td>\n",
       "      <td>Kama wheat</td>\n",
       "    </tr>\n",
       "    <tr>\n",
       "      <th>2</th>\n",
       "      <td>14.29</td>\n",
       "      <td>14.09</td>\n",
       "      <td>0.9050</td>\n",
       "      <td>5.291</td>\n",
       "      <td>3.337</td>\n",
       "      <td>2.699</td>\n",
       "      <td>4.825</td>\n",
       "      <td>Kama wheat</td>\n",
       "    </tr>\n",
       "    <tr>\n",
       "      <th>3</th>\n",
       "      <td>13.84</td>\n",
       "      <td>13.94</td>\n",
       "      <td>0.8955</td>\n",
       "      <td>5.324</td>\n",
       "      <td>3.379</td>\n",
       "      <td>2.259</td>\n",
       "      <td>4.805</td>\n",
       "      <td>Kama wheat</td>\n",
       "    </tr>\n",
       "    <tr>\n",
       "      <th>4</th>\n",
       "      <td>16.14</td>\n",
       "      <td>14.99</td>\n",
       "      <td>0.9034</td>\n",
       "      <td>5.658</td>\n",
       "      <td>3.562</td>\n",
       "      <td>1.355</td>\n",
       "      <td>5.175</td>\n",
       "      <td>Kama wheat</td>\n",
       "    </tr>\n",
       "  </tbody>\n",
       "</table>\n",
       "</div>"
      ],
      "text/plain": [
       "    area  perimeter  compactness  length  width  asymmetry_coefficient  \\\n",
       "0  15.26      14.84       0.8710   5.763  3.312                  2.221   \n",
       "1  14.88      14.57       0.8811   5.554  3.333                  1.018   \n",
       "2  14.29      14.09       0.9050   5.291  3.337                  2.699   \n",
       "3  13.84      13.94       0.8955   5.324  3.379                  2.259   \n",
       "4  16.14      14.99       0.9034   5.658  3.562                  1.355   \n",
       "\n",
       "   groove_length grain_variety  \n",
       "0          5.220    Kama wheat  \n",
       "1          4.956    Kama wheat  \n",
       "2          4.825    Kama wheat  \n",
       "3          4.805    Kama wheat  \n",
       "4          5.175    Kama wheat  "
      ]
     },
     "execution_count": 6,
     "metadata": {},
     "output_type": "execute_result"
    }
   ],
   "source": [
    "data.head()"
   ]
  },
  {
   "cell_type": "code",
   "execution_count": 7,
   "metadata": {},
   "outputs": [
    {
     "name": "stdout",
     "output_type": "stream",
     "text": [
      "(210, 7)\n",
      "(210, 1)\n"
     ]
    }
   ],
   "source": [
    "X = data.drop('grain_variety', axis=1).values\n",
    "y = data.grain_variety.values.reshape(-1, 1)\n",
    "\n",
    "print(X.shape)\n",
    "print(y.shape)"
   ]
  },
  {
   "cell_type": "code",
   "execution_count": 8,
   "metadata": {},
   "outputs": [],
   "source": [
    "assert X is not None and type(X) == np.ndarray, 'X should be defined and be a numpy array'\n",
    "assert y is not None and type(y) == np.ndarray, 'y should be defined and be a numpy array'"
   ]
  },
  {
   "cell_type": "markdown",
   "metadata": {},
   "source": [
    "## Plot X showing the class\n",
    "\n",
    "example\n",
    "<img src=\"data:image/png;base64,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\" width=\"300\"/>"
   ]
  },
  {
   "cell_type": "code",
   "execution_count": 9,
   "metadata": {},
   "outputs": [
    {
     "data": {
      "text/plain": [
       "<AxesSubplot:xlabel='length', ylabel='width'>"
      ]
     },
     "execution_count": 9,
     "metadata": {},
     "output_type": "execute_result"
    },
    {
     "data": {
      "image/png": "[encoded data removed]",
      "text/plain": [
       "<Figure size 576x432 with 1 Axes>"
      ]
     },
     "metadata": {
      "needs_background": "light"
     },
     "output_type": "display_data"
    }
   ],
   "source": [
    "# plot X showing the classes hold in y\n",
    "plt.figure(figsize=(8, 6))\n",
    "sns.scatterplot(x = data['length'], y = data['width'], hue = data['grain_variety'])"
   ]
  },
  {
   "cell_type": "markdown",
   "metadata": {},
   "source": [
    "## Fit the model"
   ]
  },
  {
   "cell_type": "code",
   "execution_count": 10,
   "metadata": {},
   "outputs": [],
   "source": [
    "X_train, X_test, y_train , y_test = train_test_split(X, y, test_size = 0.2, random_state = 42)"
   ]
  },
  {
   "cell_type": "code",
   "execution_count": 12,
   "metadata": {},
   "outputs": [],
   "source": [
    "model = KNN(k=5)\n",
    "model.fit(X_train, y_train)\n"
   ]
  },
  {
   "cell_type": "code",
   "execution_count": 13,
   "metadata": {},
   "outputs": [],
   "source": [
    "assert model is not None and type(model) == KNN, 'Fit method should return itself'"
   ]
  },
  {
   "cell_type": "markdown",
   "metadata": {},
   "source": [
    "## Predict the classes for the same data"
   ]
  },
  {
   "cell_type": "code",
   "execution_count": 13,
   "metadata": {},
   "outputs": [
    {
     "ename": "AttributeError",
     "evalue": "'NoneType' object has no attribute 'predict'",
     "output_type": "error",
     "traceback": [
      "\u001b[1;31m---------------------------------------------------------------------------\u001b[0m",
      "\u001b[1;31mAttributeError\u001b[0m                            Traceback (most recent call last)",
      "\u001b[1;32m~\\AppData\\Local\\Temp/ipykernel_24644/2413634177.py\u001b[0m in \u001b[0;36m<module>\u001b[1;34m\u001b[0m\n\u001b[1;32m----> 1\u001b[1;33m \u001b[0mmodel\u001b[0m\u001b[1;33m.\u001b[0m\u001b[0mpredict\u001b[0m\u001b[1;33m(\u001b[0m\u001b[0mX\u001b[0m\u001b[1;33m)\u001b[0m\u001b[1;33m\u001b[0m\u001b[1;33m\u001b[0m\u001b[0m\n\u001b[0m",
      "\u001b[1;31mAttributeError\u001b[0m: 'NoneType' object has no attribute 'predict'"
     ]
    }
   ],
   "source": [
    "model.predict(X)"
   ]
  },
  {
   "cell_type": "markdown",
   "metadata": {},
   "source": [
    "## Show the decission boundaries depending on K for your model\n",
    "example\n",
    "<img src=\"https://i.stack.imgur.com/ZDVhm.png\" width=\"300\"/>\n",
    "(tricky one so we are going to help you out with this one)"
   ]
  },
  {
   "cell_type": "code",
   "execution_count": null,
   "metadata": {},
   "outputs": [],
   "source": [
    "from ipywidgets import interact\n",
    "\n",
    "@interact\n",
    "def plot_decision_boundary(k=(1,10,1)):\n",
    "    model = KNN(n_neighbors=k).fit(X, y)\n",
    "    \n",
    "    x_min, x_max = X[:, 0].min() - 1, X[:, 0].max() + 1\n",
    "    y_min, y_max = X[:, 1].min() - 1, X[:, 1].max() + 1\n",
    "    \n",
    "    xx, yy = np.meshgrid(np.arange(x_min, x_max, 0.5),\n",
    "                         np.arange(y_min, y_max, 0.5))\n",
    "    Z = model.predict(np.c_[xx.ravel(), yy.ravel()])\n",
    "    \n",
    "    Z = Z.reshape(xx.shape)\n",
    "    plt.pcolormesh(xx, yy, Z)\n",
    "\n",
    "    for c in set(y):\n",
    "        plt.scatter(*X[y==c].T)"
   ]
  },
  {
   "cell_type": "markdown",
   "metadata": {},
   "source": [
    "# Repeat this process with Dataset 2 and Dataset 3"
   ]
  },
  {
   "cell_type": "code",
   "execution_count": null,
   "metadata": {},
   "outputs": [],
   "source": []
  },
  {
   "cell_type": "markdown",
   "metadata": {},
   "source": [
    "# Compare performance vs Sklearn"
   ]
  },
  {
   "cell_type": "code",
   "execution_count": null,
   "metadata": {},
   "outputs": [],
   "source": []
  }
 ],
 "metadata": {
  "kernelspec": {
   "display_name": "Python 3",
   "language": "python",
   "name": "python3"
  },
  "language_info": {
   "codemirror_mode": {
    "name": "ipython",
    "version": 3
   },
   "file_extension": ".py",
   "mimetype": "text/x-python",
   "name": "python",
   "nbconvert_exporter": "python",
   "pygments_lexer": "ipython3",
   "version": "3.10.0"
  }
 },
 "nbformat": 4,
 "nbformat_minor": 2
}
